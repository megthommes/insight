{
 "cells": [
  {
   "cell_type": "code",
   "execution_count": 2,
   "metadata": {},
   "outputs": [],
   "source": [
    "# modules\n",
    "import gzip, json, os, pickle\n",
    "import pandas as pd\n",
    "import matplotlib.pyplot as plt"
   ]
  },
  {
   "cell_type": "code",
   "execution_count": 4,
   "metadata": {},
   "outputs": [],
   "source": [
    "DIR = '/home/mthommes/insight/project/'"
   ]
  },
  {
   "cell_type": "markdown",
   "metadata": {},
   "source": [
    "# Load Data"
   ]
  },
  {
   "cell_type": "code",
   "execution_count": 5,
   "metadata": {},
   "outputs": [
    {
     "data": {
      "text/html": [
       "<div>\n",
       "<style scoped>\n",
       "    .dataframe tbody tr th:only-of-type {\n",
       "        vertical-align: middle;\n",
       "    }\n",
       "\n",
       "    .dataframe tbody tr th {\n",
       "        vertical-align: top;\n",
       "    }\n",
       "\n",
       "    .dataframe thead th {\n",
       "        text-align: right;\n",
       "    }\n",
       "</style>\n",
       "<table border=\"1\" class=\"dataframe\">\n",
       "  <thead>\n",
       "    <tr style=\"text-align: right;\">\n",
       "      <th></th>\n",
       "      <th>book_id</th>\n",
       "      <th>date_added</th>\n",
       "      <th>date_updated</th>\n",
       "      <th>is_read</th>\n",
       "      <th>rating</th>\n",
       "      <th>read_at</th>\n",
       "      <th>review_id</th>\n",
       "      <th>review_text_incomplete</th>\n",
       "      <th>started_at</th>\n",
       "      <th>user_id</th>\n",
       "    </tr>\n",
       "  </thead>\n",
       "  <tbody>\n",
       "    <tr>\n",
       "      <td>0</td>\n",
       "      <td>24375664</td>\n",
       "      <td>Fri Aug 25 13:55:02 -0700 2017</td>\n",
       "      <td>Mon Oct 09 08:55:59 -0700 2017</td>\n",
       "      <td>1.0</td>\n",
       "      <td>5.0</td>\n",
       "      <td>Sat Oct 07 00:00:00 -0700 2017</td>\n",
       "      <td>5cd416f3efc3f944fce4ce2db2290d5e</td>\n",
       "      <td>Mind blowingly cool. Best science fiction I've...</td>\n",
       "      <td>Sat Aug 26 00:00:00 -0700 2017</td>\n",
       "      <td>8842281e1d1347389f2ab93d60773d4d</td>\n",
       "    </tr>\n",
       "    <tr>\n",
       "      <td>0</td>\n",
       "      <td>18245960</td>\n",
       "      <td>Sun Jul 30 07:44:10 -0700 2017</td>\n",
       "      <td>Wed Aug 30 00:00:26 -0700 2017</td>\n",
       "      <td>1.0</td>\n",
       "      <td>5.0</td>\n",
       "      <td>Sat Aug 26 12:05:52 -0700 2017</td>\n",
       "      <td>dfdbb7b0eb5a7e4c26d59a937e2e5feb</td>\n",
       "      <td>This is a special book. It started slow for ab...</td>\n",
       "      <td>Tue Aug 15 13:23:18 -0700 2017</td>\n",
       "      <td>8842281e1d1347389f2ab93d60773d4d</td>\n",
       "    </tr>\n",
       "    <tr>\n",
       "      <td>0</td>\n",
       "      <td>6392944</td>\n",
       "      <td>Mon Jul 24 02:48:17 -0700 2017</td>\n",
       "      <td>Sun Jul 30 09:28:03 -0700 2017</td>\n",
       "      <td>1.0</td>\n",
       "      <td>3.0</td>\n",
       "      <td>Tue Jul 25 00:00:00 -0700 2017</td>\n",
       "      <td>5e212a62bced17b4dbe41150e5bb9037</td>\n",
       "      <td>I haven't read a fun mystery book in a while a...</td>\n",
       "      <td>Mon Jul 24 00:00:00 -0700 2017</td>\n",
       "      <td>8842281e1d1347389f2ab93d60773d4d</td>\n",
       "    </tr>\n",
       "    <tr>\n",
       "      <td>0</td>\n",
       "      <td>22078596</td>\n",
       "      <td>Mon Jul 24 02:33:09 -0700 2017</td>\n",
       "      <td>Sun Jul 30 10:23:54 -0700 2017</td>\n",
       "      <td>1.0</td>\n",
       "      <td>4.0</td>\n",
       "      <td>Sun Jul 30 15:42:05 -0700 2017</td>\n",
       "      <td>fdd13cad0695656be99828cd75d6eb73</td>\n",
       "      <td>Fun, fast paced, and disturbing tale of murder...</td>\n",
       "      <td>Tue Jul 25 00:00:00 -0700 2017</td>\n",
       "      <td>8842281e1d1347389f2ab93d60773d4d</td>\n",
       "    </tr>\n",
       "    <tr>\n",
       "      <td>0</td>\n",
       "      <td>6644782</td>\n",
       "      <td>Mon Jul 24 02:28:14 -0700 2017</td>\n",
       "      <td>Thu Aug 24 00:07:20 -0700 2017</td>\n",
       "      <td>1.0</td>\n",
       "      <td>4.0</td>\n",
       "      <td>Sat Aug 05 00:00:00 -0700 2017</td>\n",
       "      <td>bd0df91c9d918c0e433b9ab3a9a5c451</td>\n",
       "      <td>A fun book that gives you a sense of living in...</td>\n",
       "      <td>Sun Jul 30 00:00:00 -0700 2017</td>\n",
       "      <td>8842281e1d1347389f2ab93d60773d4d</td>\n",
       "    </tr>\n",
       "  </tbody>\n",
       "</table>\n",
       "</div>"
      ],
      "text/plain": [
       "    book_id                      date_added                    date_updated  \\\n",
       "0  24375664  Fri Aug 25 13:55:02 -0700 2017  Mon Oct 09 08:55:59 -0700 2017   \n",
       "0  18245960  Sun Jul 30 07:44:10 -0700 2017  Wed Aug 30 00:00:26 -0700 2017   \n",
       "0   6392944  Mon Jul 24 02:48:17 -0700 2017  Sun Jul 30 09:28:03 -0700 2017   \n",
       "0  22078596  Mon Jul 24 02:33:09 -0700 2017  Sun Jul 30 10:23:54 -0700 2017   \n",
       "0   6644782  Mon Jul 24 02:28:14 -0700 2017  Thu Aug 24 00:07:20 -0700 2017   \n",
       "\n",
       "   is_read  rating                         read_at  \\\n",
       "0      1.0     5.0  Sat Oct 07 00:00:00 -0700 2017   \n",
       "0      1.0     5.0  Sat Aug 26 12:05:52 -0700 2017   \n",
       "0      1.0     3.0  Tue Jul 25 00:00:00 -0700 2017   \n",
       "0      1.0     4.0  Sun Jul 30 15:42:05 -0700 2017   \n",
       "0      1.0     4.0  Sat Aug 05 00:00:00 -0700 2017   \n",
       "\n",
       "                          review_id  \\\n",
       "0  5cd416f3efc3f944fce4ce2db2290d5e   \n",
       "0  dfdbb7b0eb5a7e4c26d59a937e2e5feb   \n",
       "0  5e212a62bced17b4dbe41150e5bb9037   \n",
       "0  fdd13cad0695656be99828cd75d6eb73   \n",
       "0  bd0df91c9d918c0e433b9ab3a9a5c451   \n",
       "\n",
       "                              review_text_incomplete  \\\n",
       "0  Mind blowingly cool. Best science fiction I've...   \n",
       "0  This is a special book. It started slow for ab...   \n",
       "0  I haven't read a fun mystery book in a while a...   \n",
       "0  Fun, fast paced, and disturbing tale of murder...   \n",
       "0  A fun book that gives you a sense of living in...   \n",
       "\n",
       "                       started_at                           user_id  \n",
       "0  Sat Aug 26 00:00:00 -0700 2017  8842281e1d1347389f2ab93d60773d4d  \n",
       "0  Tue Aug 15 13:23:18 -0700 2017  8842281e1d1347389f2ab93d60773d4d  \n",
       "0  Mon Jul 24 00:00:00 -0700 2017  8842281e1d1347389f2ab93d60773d4d  \n",
       "0  Tue Jul 25 00:00:00 -0700 2017  8842281e1d1347389f2ab93d60773d4d  \n",
       "0  Sun Jul 30 00:00:00 -0700 2017  8842281e1d1347389f2ab93d60773d4d  "
      ]
     },
     "metadata": {},
     "output_type": "display_data"
    }
   ],
   "source": [
    "file_name = 'reviews.sav'\n",
    "data_df = pd.read_pickle(os.path.join(DIR, 'data', file_name))\n",
    "display(data_df.head())"
   ]
  },
  {
   "cell_type": "markdown",
   "metadata": {},
   "source": [
    "# Trim Data"
   ]
  },
  {
   "cell_type": "code",
   "execution_count": 6,
   "metadata": {},
   "outputs": [
    {
     "name": "stdout",
     "output_type": "stream",
     "text": [
      "Removed 93317 out of 100000 items\n"
     ]
    }
   ],
   "source": [
    "# Remove books with less than 50 ratings\n",
    "min_book_ratings = 50\n",
    "books_trimmed = data_df['book_id'].value_counts() > min_book_ratings\n",
    "books_trimmed = books_trimmed[books_trimmed].index.to_list()\n",
    "\n",
    "# Remove users with less than 50 ratings\n",
    "min_user_ratings = 50\n",
    "users_trimmed = data_df['user_id'].value_counts() > min_user_ratings\n",
    "users_trimmed = users_trimmed[users_trimmed].index.to_list()\n",
    "\n",
    "new_data_df = data_df[(data_df['book_id'].isin(books_trimmed)) & (data_df['user_id'].isin(users_trimmed))]\n",
    "print('Removed', len(data_df) - len(new_data_df), 'out of', len(data_df), 'items')"
   ]
  },
  {
   "cell_type": "markdown",
   "metadata": {},
   "source": [
    "### Save Data"
   ]
  },
  {
   "cell_type": "code",
   "execution_count": 7,
   "metadata": {},
   "outputs": [],
   "source": [
    "file_name = 'reviews_trimmed.pkl'\n",
    "pickle.dump(new_data_df, open(os.path.join(DIR, 'data', file_name), 'wb'))"
   ]
  },
  {
   "cell_type": "markdown",
   "metadata": {},
   "source": [
    "# EDA\n",
    "\n",
    "## Distribution of Book Ratings"
   ]
  },
  {
   "cell_type": "code",
   "execution_count": 12,
   "metadata": {},
   "outputs": [
    {
     "data": {
      "image/png": "[encoded data removed]",
      "text/plain": [
       "<Figure size 432x288 with 1 Axes>"
      ]
     },
     "metadata": {
      "needs_background": "light"
     },
     "output_type": "display_data"
    },
    {
     "data": {
      "image/png": "[encoded data removed]",
      "text/plain": [
       "<Figure size 432x288 with 1 Axes>"
      ]
     },
     "metadata": {
      "needs_background": "light"
     },
     "output_type": "display_data"
    }
   ],
   "source": [
    "data1 = data_df['rating'].value_counts().sort_index(ascending=True)\n",
    "data2 = new_data_df['rating'].value_counts().sort_index(ascending=True)\n",
    "\n",
    "# Create plots\n",
    "plt.figure(1)\n",
    "data1.plot(kind='bar', label='Original', color='b', edgeColor='k', ls='-', lw=1.5);\n",
    "plt.xlabel('Book Rating', FontSize=14)\n",
    "plt.ylabel('Count', FontSize=14)\n",
    "plt.title('Distribution of Book Ratings', FontSize=18);\n",
    "\n",
    "plt.figure(2)\n",
    "data2.plot(kind='bar', label='New', color='r', edgeColor='k', ls='-', lw=1.5);\n",
    "plt.xlabel('Book Rating', FontSize=14)\n",
    "plt.ylabel('Count', FontSize=14)\n",
    "plt.title('Distribution of Book Ratings', FontSize=18);"
   ]
  },
  {
   "cell_type": "markdown",
   "metadata": {},
   "source": [
    "## Ratings Distribution by Book"
   ]
  },
  {
   "cell_type": "code",
   "execution_count": null,
   "metadata": {},
   "outputs": [],
   "source": [
    "data1 = data_df.groupby('book_id')['rating'].value_counts().sort_index(ascending=True)\n",
    "data2 = new_data_df.groupby('book_id')['rating'].value_counts().sort_index(ascending=True)\n",
    "\n",
    "# Create plots\n",
    "plt.figure(1)\n",
    "data1.plot(kind='bar', label='Original', color='b', edgeColor='k', ls='-', lw=1.5);\n",
    "plt.xlabel('Number of Ratings per Book', FontSize=14)\n",
    "plt.ylabel('Count', FontSize=14)\n",
    "plt.title('Ratings Distribution by Book', FontSize=18);\n",
    "\n",
    "plt.figure(2)\n",
    "data2.plot(kind='bar', label='New', color='r', edgeColor='k', ls='-', lw=1.5);\n",
    "plt.xlabel('Number of Ratings per Book', FontSize=14)\n",
    "plt.ylabel('Count', FontSize=14)\n",
    "plt.title('Ratings Distribution by Book', FontSize=18);"
   ]
  },
  {
   "cell_type": "markdown",
   "metadata": {},
   "source": [
    "## Ratings Distribution By User"
   ]
  },
  {
   "cell_type": "code",
   "execution_count": null,
   "metadata": {},
   "outputs": [],
   "source": [
    "data1 = data_df.groupby('user_id')['rating'].value_counts().sort_index(ascending=True)\n",
    "data2 = new_data_df.groupby('user_id')['rating'].value_counts().sort_index(ascending=True)\n",
    "\n",
    "# Create plot\n",
    "plt.figure(1)\n",
    "data1.plot(kind='bar', label='Original', color='b', edgeColor='k', ls='-', lw=1.5);\n",
    "data2.plot(kind='bar', label='New', color='r', edgeColor='k', ls='-', lw=1.5);\n",
    "plt.legend(loc='upper left')\n",
    "plt.xlabel('Number of Ratings per User', FontSize=14)\n",
    "plt.ylabel('Count', FontSize=14)\n",
    "plt.title('Ratings Distribution by User', FontSize=18);"
   ]
  },
  {
   "cell_type": "code",
   "execution_count": null,
   "metadata": {},
   "outputs": [],
   "source": [
    "data_df.groupby('user_id')['rating'].count().reset_index().sort_values('rating', ascending=False)[:10]"
   ]
  },
  {
   "cell_type": "markdown",
   "metadata": {},
   "source": [
    "# Save Data"
   ]
  },
  {
   "cell_type": "code",
   "execution_count": null,
   "metadata": {},
   "outputs": [],
   "source": [
    "file_name = 'reviews.sav'\n",
    "ratings_data.to_pickle(os.path.join(save_DIR, 'data', 'reviews.sav'))"
   ]
  }
 ],
 "metadata": {
  "kernelspec": {
   "display_name": "Python 3",
   "language": "python",
   "name": "python3"
  },
  "language_info": {
   "codemirror_mode": {
    "name": "ipython",
    "version": 3
   },
   "file_extension": ".py",
   "mimetype": "text/x-python",
   "name": "python",
   "nbconvert_exporter": "python",
   "pygments_lexer": "ipython3",
   "version": "3.7.4"
  }
 },
 "nbformat": 4,
 "nbformat_minor": 2
}
