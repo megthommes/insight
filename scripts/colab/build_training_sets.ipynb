{
  "nbformat": 4,
  "nbformat_minor": 0,
  "metadata": {
    "colab": {
      "name": "build_test_train_sets.ipynb",
      "provenance": [],
      "collapsed_sections": []
    },
    "kernelspec": {
      "name": "python3",
      "display_name": "Python 3"
    }
  },
  "cells": [
    {
      "cell_type": "code",
      "metadata": {
        "id": "19bsM9S7ueaT",
        "colab_type": "code",
        "outputId": "6f276a13-e01c-4ba3-8750-2442d1246781",
        "colab": {
          "base_uri": "https://localhost:8080/",
          "height": 52
        }
      },
      "source": [
        "!pip install -q pydrive\n",
        "!pip install -q surprise"
      ],
      "execution_count": 0,
      "outputs": [
        {
          "output_type": "stream",
          "text": [
            "\u001b[K     |████████████████████████████████| 6.5MB 2.8MB/s \n",
            "\u001b[?25h  Building wheel for scikit-surprise (setup.py) ... \u001b[?25l\u001b[?25hdone\n"
          ],
          "name": "stdout"
        }
      ]
    },
    {
      "cell_type": "code",
      "metadata": {
        "id": "c12k5T8Cun7j",
        "colab_type": "code",
        "colab": {}
      },
      "source": [
        "import pandas as pd\n",
        "import joblib, surprise, random\n",
        "from pydrive.auth import GoogleAuth\n",
        "from pydrive.drive import GoogleDrive\n",
        "from google.colab import auth\n",
        "from oauth2client.client import GoogleCredentials"
      ],
      "execution_count": 0,
      "outputs": []
    },
    {
      "cell_type": "markdown",
      "metadata": {
        "id": "yHgZxyFsuofc",
        "colab_type": "text"
      },
      "source": [
        "# Mount Google Drive"
      ]
    },
    {
      "cell_type": "code",
      "metadata": {
        "id": "Xukq8VVuup2I",
        "colab_type": "code",
        "outputId": "a0e48fff-0335-415d-8292-ed69822bc44d",
        "colab": {
          "base_uri": "https://localhost:8080/",
          "height": 124
        }
      },
      "source": [
        "# mount Google drive\n",
        "from google.colab import drive\n",
        "drive.mount('/content/drive/')\n",
        "\n",
        "# authenticate and create the PyDrive clident\n",
        "auth.authenticate_user()\n",
        "gauth = GoogleAuth()\n",
        "gauth.credentials = GoogleCredentials.get_application_default()\n",
        "drive = GoogleDrive(gauth)"
      ],
      "execution_count": 0,
      "outputs": [
        {
          "output_type": "stream",
          "text": [
            "Go to this URL in a browser: https://accounts.google.com/o/oauth2/auth?client_id=947318989803-6bn6qk8qdgf4n4g3pfee6491hc0brc4i.apps.googleusercontent.com&redirect_uri=urn%3aietf%3awg%3aoauth%3a2.0%3aoob&response_type=code&scope=email%20https%3a%2f%2fwww.googleapis.com%2fauth%2fdocs.test%20https%3a%2f%2fwww.googleapis.com%2fauth%2fdrive%20https%3a%2f%2fwww.googleapis.com%2fauth%2fdrive.photos.readonly%20https%3a%2f%2fwww.googleapis.com%2fauth%2fpeopleapi.readonly\n",
            "\n",
            "Enter your authorization code:\n",
            "··········\n",
            "Mounted at /content/drive/\n"
          ],
          "name": "stdout"
        }
      ]
    },
    {
      "cell_type": "markdown",
      "metadata": {
        "id": "H1TnXkT6us9M",
        "colab_type": "text"
      },
      "source": [
        "# Load Data"
      ]
    },
    {
      "cell_type": "code",
      "metadata": {
        "id": "U0MndMSzutGC",
        "colab_type": "code",
        "outputId": "c3d98c7e-c576-455b-b179-feac154fe4a7",
        "colab": {
          "base_uri": "https://localhost:8080/",
          "height": 225
        }
      },
      "source": [
        "# load reviews\n",
        "file_name = 'reviews_trimmed.gz'\n",
        "file_path = F'/content/drive/My Drive/Insight/Colab_Data/{file_name}'\n",
        "reviews_df = joblib.load(file_path)\n",
        "reviews_df.info()"
      ],
      "execution_count": 0,
      "outputs": [
        {
          "output_type": "stream",
          "text": [
            "<class 'pandas.core.frame.DataFrame'>\n",
            "Int64Index: 9321847 entries, 0 to 99999\n",
            "Data columns (total 7 columns):\n",
            "user_id       int64\n",
            "book_id       int64\n",
            "rating        int64\n",
            "read_at       object\n",
            "started_at    object\n",
            "Chunk         object\n",
            "book_id2      int64\n",
            "dtypes: int64(4), object(3)\n",
            "memory usage: 569.0+ MB\n"
          ],
          "name": "stdout"
        }
      ]
    },
    {
      "cell_type": "markdown",
      "metadata": {
        "id": "MHCRpGAKu2Tv",
        "colab_type": "text"
      },
      "source": [
        "# Generate and Save Datasets"
      ]
    },
    {
      "cell_type": "markdown",
      "metadata": {
        "id": "sqZQQM7uu_Ka",
        "colab_type": "text"
      },
      "source": [
        "## Parameters"
      ]
    },
    {
      "cell_type": "code",
      "metadata": {
        "id": "uhcFmhD5vDed",
        "colab_type": "code",
        "colab": {}
      },
      "source": [
        "# define rating scale\n",
        "reader = surprise.Reader(rating_scale=(1, 5))\n",
        "\n",
        "# column names to use in building the collaborative filtering models\n",
        "col_names = ['book_id', 'user_id', 'rating']\n",
        "\n",
        "# construct list from dataframe\n",
        "reviews_list = reviews_df[col_names].values.tolist()\n",
        "\n",
        "# shuffle dataframe values\n",
        "random.shuffle(reviews_list) # shuffles in-place"
      ],
      "execution_count": 0,
      "outputs": []
    },
    {
      "cell_type": "markdown",
      "metadata": {
        "id": "I3BSN7Ipu5JG",
        "colab_type": "text"
      },
      "source": [
        "## Generate Training Sets of Different Sizes"
      ]
    },
    {
      "cell_type": "code",
      "metadata": {
        "id": "QMnldHH9vfYv",
        "colab_type": "code",
        "outputId": "e7503d76-9122-4394-e11a-2597955a4da0",
        "colab": {
          "base_uri": "https://localhost:8080/",
          "height": 434
        }
      },
      "source": [
        "for num_reviews in [1E4, 5E4, 1E5, 5E5, 1E6, 5E6]:\n",
        "  print('Number of reviews in dataset =', num_reviews)\n",
        "\n",
        "  # only use the number of reviews specified\n",
        "  reviews_set = pd.DataFrame(reviews_list[:int(num_reviews)], columns=col_names)\n",
        "\n",
        "  # convert to dataset\n",
        "  reviews = surprise.Dataset.load_from_df(reviews_set, reader)\n",
        "\n",
        "  # upload training set to Google drive\n",
        "  print('Uploading training data...')\n",
        "  train_name = 'trainingReviews_' + str(int(num_reviews)) + '.joblib'\n",
        "  train_path = F'/content/drive/My Drive/Insight/Colab_Data/{train_name}'\n",
        "  joblib.dump(reviews, train_path)\n",
        "\n",
        "  print('...done!\\n')"
      ],
      "execution_count": 0,
      "outputs": [
        {
          "output_type": "stream",
          "text": [
            "Number of reviews in dataset = 10000.0\n",
            "Uploading training data...\n",
            "...done!\n",
            "\n",
            "Number of reviews in dataset = 50000.0\n",
            "Uploading training data...\n",
            "...done!\n",
            "\n",
            "Number of reviews in dataset = 100000.0\n",
            "Uploading training data...\n",
            "...done!\n",
            "\n",
            "Number of reviews in dataset = 500000.0\n",
            "Uploading training data...\n",
            "...done!\n",
            "\n",
            "Number of reviews in dataset = 1000000.0\n",
            "Uploading training data...\n",
            "...done!\n",
            "\n",
            "Number of reviews in dataset = 5000000.0\n",
            "Uploading training data...\n",
            "...done!\n",
            "\n"
          ],
          "name": "stdout"
        }
      ]
    }
  ]
}