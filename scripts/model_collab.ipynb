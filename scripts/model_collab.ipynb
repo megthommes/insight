{
 "cells": [
  {
   "cell_type": "code",
   "execution_count": 20,
   "metadata": {},
   "outputs": [],
   "source": [
    "import gzip, json, os, pickle\n",
    "import pandas as pd\n",
    "from surprise import Dataset, Reader, accuracy\n",
    "from surprise import prediction_algorithms\n",
    "from surprise.model_selection import train_test_split\n",
    "\n",
    "DIR = '/home/mthommes/insight/project/'"
   ]
  },
  {
   "cell_type": "markdown",
   "metadata": {},
   "source": [
    "# Load Data"
   ]
  },
  {
   "cell_type": "code",
   "execution_count": 21,
   "metadata": {},
   "outputs": [
    {
     "data": {
      "text/html": [
       "<div>\n",
       "<style scoped>\n",
       "    .dataframe tbody tr th:only-of-type {\n",
       "        vertical-align: middle;\n",
       "    }\n",
       "\n",
       "    .dataframe tbody tr th {\n",
       "        vertical-align: top;\n",
       "    }\n",
       "\n",
       "    .dataframe thead th {\n",
       "        text-align: right;\n",
       "    }\n",
       "</style>\n",
       "<table border=\"1\" class=\"dataframe\">\n",
       "  <thead>\n",
       "    <tr style=\"text-align: right;\">\n",
       "      <th></th>\n",
       "      <th>book_id</th>\n",
       "      <th>date_added</th>\n",
       "      <th>date_updated</th>\n",
       "      <th>is_read</th>\n",
       "      <th>rating</th>\n",
       "      <th>read_at</th>\n",
       "      <th>review_id</th>\n",
       "      <th>review_text_incomplete</th>\n",
       "      <th>started_at</th>\n",
       "      <th>user_id</th>\n",
       "    </tr>\n",
       "  </thead>\n",
       "  <tbody>\n",
       "    <tr>\n",
       "      <td>0</td>\n",
       "      <td>22557272</td>\n",
       "      <td>Tue Mar 17 11:10:46 -0700 2015</td>\n",
       "      <td>Wed Mar 22 11:32:22 -0700 2017</td>\n",
       "      <td>1.0</td>\n",
       "      <td>4.0</td>\n",
       "      <td></td>\n",
       "      <td>089ed6d735e2e2357bd8eb2a0dd2ed42</td>\n",
       "      <td></td>\n",
       "      <td></td>\n",
       "      <td>8842281e1d1347389f2ab93d60773d4d</td>\n",
       "    </tr>\n",
       "    <tr>\n",
       "      <td>0</td>\n",
       "      <td>8127</td>\n",
       "      <td>Tue Jun 07 10:40:48 -0700 2011</td>\n",
       "      <td>Wed Mar 22 11:46:59 -0700 2017</td>\n",
       "      <td>1.0</td>\n",
       "      <td>5.0</td>\n",
       "      <td></td>\n",
       "      <td>242ab743400f31a5b8ab89baf0c9e876</td>\n",
       "      <td></td>\n",
       "      <td></td>\n",
       "      <td>8842281e1d1347389f2ab93d60773d4d</td>\n",
       "    </tr>\n",
       "    <tr>\n",
       "      <td>0</td>\n",
       "      <td>157993</td>\n",
       "      <td>Tue Jun 07 10:39:10 -0700 2011</td>\n",
       "      <td>Tue Jun 07 10:39:10 -0700 2011</td>\n",
       "      <td>1.0</td>\n",
       "      <td>5.0</td>\n",
       "      <td></td>\n",
       "      <td>2f5d8a16d8b39eb909fe3f2f6b870ca9</td>\n",
       "      <td></td>\n",
       "      <td></td>\n",
       "      <td>8842281e1d1347389f2ab93d60773d4d</td>\n",
       "    </tr>\n",
       "    <tr>\n",
       "      <td>0</td>\n",
       "      <td>2998</td>\n",
       "      <td>Fri Apr 29 13:09:56 -0700 2011</td>\n",
       "      <td>Wed Mar 22 11:46:53 -0700 2017</td>\n",
       "      <td>1.0</td>\n",
       "      <td>5.0</td>\n",
       "      <td></td>\n",
       "      <td>4cb1341793c6f4e1ae38e5c3365128fc</td>\n",
       "      <td></td>\n",
       "      <td></td>\n",
       "      <td>8842281e1d1347389f2ab93d60773d4d</td>\n",
       "    </tr>\n",
       "    <tr>\n",
       "      <td>0</td>\n",
       "      <td>7613</td>\n",
       "      <td>Fri Apr 29 13:09:36 -0700 2011</td>\n",
       "      <td>Wed Mar 22 11:32:12 -0700 2017</td>\n",
       "      <td>1.0</td>\n",
       "      <td>5.0</td>\n",
       "      <td></td>\n",
       "      <td>ce116905969822c8762a82171e726b2f</td>\n",
       "      <td></td>\n",
       "      <td></td>\n",
       "      <td>8842281e1d1347389f2ab93d60773d4d</td>\n",
       "    </tr>\n",
       "  </tbody>\n",
       "</table>\n",
       "</div>"
      ],
      "text/plain": [
       "    book_id                      date_added                    date_updated  \\\n",
       "0  22557272  Tue Mar 17 11:10:46 -0700 2015  Wed Mar 22 11:32:22 -0700 2017   \n",
       "0      8127  Tue Jun 07 10:40:48 -0700 2011  Wed Mar 22 11:46:59 -0700 2017   \n",
       "0    157993  Tue Jun 07 10:39:10 -0700 2011  Tue Jun 07 10:39:10 -0700 2011   \n",
       "0      2998  Fri Apr 29 13:09:56 -0700 2011  Wed Mar 22 11:46:53 -0700 2017   \n",
       "0      7613  Fri Apr 29 13:09:36 -0700 2011  Wed Mar 22 11:32:12 -0700 2017   \n",
       "\n",
       "   is_read  rating read_at                         review_id  \\\n",
       "0      1.0     4.0          089ed6d735e2e2357bd8eb2a0dd2ed42   \n",
       "0      1.0     5.0          242ab743400f31a5b8ab89baf0c9e876   \n",
       "0      1.0     5.0          2f5d8a16d8b39eb909fe3f2f6b870ca9   \n",
       "0      1.0     5.0          4cb1341793c6f4e1ae38e5c3365128fc   \n",
       "0      1.0     5.0          ce116905969822c8762a82171e726b2f   \n",
       "\n",
       "  review_text_incomplete started_at                           user_id  \n",
       "0                                    8842281e1d1347389f2ab93d60773d4d  \n",
       "0                                    8842281e1d1347389f2ab93d60773d4d  \n",
       "0                                    8842281e1d1347389f2ab93d60773d4d  \n",
       "0                                    8842281e1d1347389f2ab93d60773d4d  \n",
       "0                                    8842281e1d1347389f2ab93d60773d4d  "
      ]
     },
     "metadata": {},
     "output_type": "display_data"
    }
   ],
   "source": [
    "file_name = 'reviews_trimmed.pkl'\n",
    "data_df = pd.read_pickle(os.path.join(DIR, 'data', file_name))\n",
    "display(data_df.head())\n",
    "\n",
    "# define rating scale\n",
    "reader = Reader(rating_scale=(1, 5))\n",
    "\n",
    "# convert data to dataset\n",
    "col_names = ['book_id', 'user_id', 'rating']\n",
    "data = Dataset.load_from_df(data_df[col_names], reader)\n",
    "\n",
    "# training (75%) and test (25%) sets\n",
    "trainingSet, testSet = train_test_split(data, test_size=.25)\n",
    "\n",
    "#trainingSet = data.build_full_trainset()\n",
    "#testSet = trainingSet.build_anti_testset() # return a new dataset with user-book pairs not present in the training set"
   ]
  },
  {
   "cell_type": "markdown",
   "metadata": {},
   "source": [
    "# Train Models"
   ]
  },
  {
   "cell_type": "code",
   "execution_count": 22,
   "metadata": {},
   "outputs": [],
   "source": [
    "# Algorithm predicting a random rating based on the distribution of the training set, which is assumed to be normal.\n",
    "# Note: The training set is NOT normal\n",
    "model_NormalPredictor = prediction_algorithms.NormalPredictor()\n",
    "model_NormalPredictor.fit(trainingSet);\n",
    "\n",
    "# Algorithm predicting the baseline estimate for given user and item.\n",
    "model_BaselineOnly = prediction_algorithms.BaselineOnly(verbose=False)\n",
    "model_BaselineOnly.fit(trainingSet);\n",
    "\n",
    "# k-NN inspired algorithms\n",
    "sim_options = {\"name\": \"cosine\",\n",
    "               \"user_based\": False,  # Compute  similarities between items\n",
    "              }\n",
    "model_KNNBasic = prediction_algorithms.KNNBasic(sim_options=sim_options, verbose=False)\n",
    "model_KNNBasic.fit(trainingSet);\n",
    "# Take into account the mean ratings of each user.\n",
    "model_KNNWithMeans = prediction_algorithms.KNNWithMeans(sim_options=sim_options, verbose=False)\n",
    "model_KNNWithMeans.fit(trainingSet);\n",
    "# Take into account the z-score normalization of each user\n",
    "#model_KNNWithZScore = prediction_algorithms.knns.model_KNNWithZScore(sim_options=sim_options)\n",
    "#model_KNNWithZScore.fit(trainingSet)"
   ]
  },
  {
   "cell_type": "markdown",
   "metadata": {},
   "source": [
    "# Test Model"
   ]
  },
  {
   "cell_type": "code",
   "execution_count": 23,
   "metadata": {},
   "outputs": [],
   "source": [
    "# Normal Predictor\n",
    "predictions_NormalPredictor = model_NormalPredictor.test(testSet)\n",
    "# Baseline Only\n",
    "predictions_BaselineOnly = model_BaselineOnly.test(testSet)\n",
    "# KNNWithMeans\n",
    "predictions_KNNWithMeans = model_KNNWithMeans.test(testSet)"
   ]
  },
  {
   "cell_type": "code",
   "execution_count": 24,
   "metadata": {},
   "outputs": [
    {
     "name": "stdout",
     "output_type": "stream",
     "text": [
      "RMSE: 1.3292\n",
      "RMSE: 0.9114\n",
      "RMSE: 0.9250\n"
     ]
    }
   ],
   "source": [
    "col_names = ['Model', 'RMSE']\n",
    "rmse_df = pd.DataFrame(columns=col_names)\n",
    "\n",
    "# Normal Predictor\n",
    "d_sr = pd.Series(['NormalPredictor', accuracy.rmse(predictions_NormalPredictor)], index=col_names)\n",
    "rmse_df = rmse_df.append(d_sr, ignore_index=True)\n",
    "\n",
    "# Baseline Only\n",
    "d_sr = pd.Series(['BaselineOnly', accuracy.rmse(predictions_BaselineOnly)], index=col_names)\n",
    "rmse_df = rmse_df.append(d_sr, ignore_index=True)\n",
    "\n",
    "# KNNWithMeans\n",
    "d_sr = pd.Series(['KNNWithMeans', accuracy.rmse(predictions_KNNWithMeans)], index=col_names)\n",
    "rmse_df = rmse_df.append(d_sr, ignore_index=True)\n"
   ]
  },
  {
   "cell_type": "code",
   "execution_count": 25,
   "metadata": {},
   "outputs": [
    {
     "data": {
      "text/html": [
       "<div>\n",
       "<style scoped>\n",
       "    .dataframe tbody tr th:only-of-type {\n",
       "        vertical-align: middle;\n",
       "    }\n",
       "\n",
       "    .dataframe tbody tr th {\n",
       "        vertical-align: top;\n",
       "    }\n",
       "\n",
       "    .dataframe thead th {\n",
       "        text-align: right;\n",
       "    }\n",
       "</style>\n",
       "<table border=\"1\" class=\"dataframe\">\n",
       "  <thead>\n",
       "    <tr style=\"text-align: right;\">\n",
       "      <th></th>\n",
       "      <th>Model</th>\n",
       "      <th>RMSE</th>\n",
       "    </tr>\n",
       "  </thead>\n",
       "  <tbody>\n",
       "    <tr>\n",
       "      <td>0</td>\n",
       "      <td>NormalPredictor</td>\n",
       "      <td>1.329160</td>\n",
       "    </tr>\n",
       "    <tr>\n",
       "      <td>1</td>\n",
       "      <td>BaselineOnly</td>\n",
       "      <td>0.911404</td>\n",
       "    </tr>\n",
       "    <tr>\n",
       "      <td>2</td>\n",
       "      <td>KNNWithMeans</td>\n",
       "      <td>0.924957</td>\n",
       "    </tr>\n",
       "  </tbody>\n",
       "</table>\n",
       "</div>"
      ],
      "text/plain": [
       "             Model      RMSE\n",
       "0  NormalPredictor  1.329160\n",
       "1     BaselineOnly  0.911404\n",
       "2     KNNWithMeans  0.924957"
      ]
     },
     "metadata": {},
     "output_type": "display_data"
    }
   ],
   "source": [
    "display(rmse_df)"
   ]
  },
  {
   "cell_type": "markdown",
   "metadata": {},
   "source": [
    "# Save Models"
   ]
  },
  {
   "cell_type": "code",
   "execution_count": 8,
   "metadata": {},
   "outputs": [],
   "source": [
    "# Normal Predictor\n",
    "file_name = 'model_collab_NormalPredictor.sav'\n",
    "pickle.dump(model_NormalPredictor, open(os.path.join(DIR, 'models', file_name), 'wb'))\n",
    "\n",
    "# Baseline Only\n",
    "file_name = 'model_collab_BaselineOnly.sav'\n",
    "pickle.dump(model_BaselineOnly, open(os.path.join(DIR, 'models', file_name), 'wb'))\n",
    "\n",
    "# KNNWithMeans\n",
    "file_name = 'model_collab_KNNWithMeans.sav'\n",
    "pickle.dump(model_KNNWithMeans, open(os.path.join(DIR, 'models', file_name), 'wb'))"
   ]
  }
 ],
 "metadata": {
  "kernelspec": {
   "display_name": "Python 3",
   "language": "python",
   "name": "python3"
  },
  "language_info": {
   "codemirror_mode": {
    "name": "ipython",
    "version": 3
   },
   "file_extension": ".py",
   "mimetype": "text/x-python",
   "name": "python",
   "nbconvert_exporter": "python",
   "pygments_lexer": "ipython3",
   "version": "3.7.4"
  }
 },
 "nbformat": 4,
 "nbformat_minor": 2
}
